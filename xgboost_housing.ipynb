{
  "nbformat": 4,
  "nbformat_minor": 0,
  "metadata": {
    "colab": {
      "provenance": [],
      "authorship_tag": "ABX9TyMH5inkXIFogAUbVMijuKx8",
      "include_colab_link": true
    },
    "kernelspec": {
      "name": "python3",
      "display_name": "Python 3"
    },
    "language_info": {
      "name": "python"
    }
  },
  "cells": [
    {
      "cell_type": "markdown",
      "metadata": {
        "id": "view-in-github",
        "colab_type": "text"
      },
      "source": [
        "<a href=\"https://colab.research.google.com/github/mvvsmk/XGBoost_Regession/blob/main/xgboost_housing.ipynb\" target=\"_parent\"><img src=\"https://colab.research.google.com/assets/colab-badge.svg\" alt=\"Open In Colab\"/></a>"
      ]
    },
    {
      "cell_type": "markdown",
      "source": [
        "### In this notebook I experiment with XGBoost and train a simple regression model to predict housing prices."
      ],
      "metadata": {
        "id": "2oTD5-VDfiyg"
      }
    },
    {
      "cell_type": "code",
      "execution_count": null,
      "metadata": {
        "id": "6KpAdFxGfapj"
      },
      "outputs": [],
      "source": [
        "import pandas as pd\n",
        "from matplotlib import pyplot\n",
        "import xgboost\n",
        "import sklearn\n",
        "from numpy import absolute"
      ]
    },
    {
      "cell_type": "code",
      "source": [
        "#load data\n",
        "url = 'https://raw.githubusercontent.com/jbrownlee/Datasets/master/housing.csv'\n",
        "df = pd.read_csv(url, header=None)\n",
        "\n",
        "#summarize shape\n",
        "print(df.shape)\n",
        "\n",
        "#summarize frist few lines\n",
        "print(df.head())"
      ],
      "metadata": {
        "colab": {
          "base_uri": "https://localhost:8080/"
        },
        "id": "YSLf5D-hgIzn",
        "outputId": "f319be53-7868-4d8e-d113-ec347d4020c0"
      },
      "execution_count": null,
      "outputs": [
        {
          "output_type": "stream",
          "name": "stdout",
          "text": [
            "(506, 14)\n",
            "        0     1     2   3      4      5     6       7   8      9     10  \\\n",
            "0  0.00632  18.0  2.31   0  0.538  6.575  65.2  4.0900   1  296.0  15.3   \n",
            "1  0.02731   0.0  7.07   0  0.469  6.421  78.9  4.9671   2  242.0  17.8   \n",
            "2  0.02729   0.0  7.07   0  0.469  7.185  61.1  4.9671   2  242.0  17.8   \n",
            "3  0.03237   0.0  2.18   0  0.458  6.998  45.8  6.0622   3  222.0  18.7   \n",
            "4  0.06905   0.0  2.18   0  0.458  7.147  54.2  6.0622   3  222.0  18.7   \n",
            "\n",
            "       11    12    13  \n",
            "0  396.90  4.98  24.0  \n",
            "1  396.90  9.14  21.6  \n",
            "2  392.83  4.03  34.7  \n",
            "3  394.63  2.94  33.4  \n",
            "4  396.90  5.33  36.2  \n"
          ]
        }
      ]
    },
    {
      "cell_type": "code",
      "source": [
        "#spliting the data into input and output coloums\n",
        "X = df.iloc[:, : -1]\n",
        "y = df.iloc[:, -1]\n",
        "\n"
      ],
      "metadata": {
        "id": "swZXcH6TguFz"
      },
      "execution_count": null,
      "outputs": []
    },
    {
      "cell_type": "code",
      "source": [
        "#define model\n",
        "model = xgboost.XGBRegressor()\n",
        "#define model evaluation method\n",
        "cv = sklearn.model_selection.RepeatedKFold(n_splits=10, n_repeats=3, random_state = 1)\n",
        "#evaluate model\n",
        "scores = sklearn.model_selection.cross_val_score(model,X,y,scoring='neg_mean_absolute_error',cv=cv, n_jobs= -1)\n",
        "#force scores to be positive\n",
        "scores = absolute(scores)\n",
        "print('Mean MAE: %.3f (%.3f)' % (scores.mean(), scores.std()) )"
      ],
      "metadata": {
        "colab": {
          "base_uri": "https://localhost:8080/"
        },
        "id": "dzbxYbb-jvy5",
        "outputId": "ea54028b-ed8a-4695-ddc2-a013744428c2"
      },
      "execution_count": null,
      "outputs": [
        {
          "output_type": "stream",
          "name": "stdout",
          "text": [
            "Mean MAE: 2.113 (0.317)\n"
          ]
        }
      ]
    }
  ]
}